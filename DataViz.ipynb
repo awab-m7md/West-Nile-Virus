{
 "cells": [
  {
   "cell_type": "code",
   "execution_count": null,
   "metadata": {},
   "outputs": [],
   "source": [
    "import matplotlib.pyplot as plt"
   ]
  },
  {
   "cell_type": "code",
   "execution_count": null,
   "metadata": {},
   "outputs": [],
   "source": [
    "train.groupby('Year')['NumMosquitos'].sum().plot(kind='bar')\n",
    "plt.ylabel('Number of Mosquitos')\n",
    "plt.title('Number of Mosquitos Per Year');"
   ]
  },
  {
   "cell_type": "code",
   "execution_count": null,
   "metadata": {},
   "outputs": [],
   "source": [
    "train.groupby('Month')['NumMosquitos'].mean().plot(kind='bar')\n",
    "plt.ylabel('Average Number of Mosquitos')\n",
    "plt.title('Average Number of Mosquitos Per Month');"
   ]
  },
  {
   "cell_type": "code",
   "execution_count": null,
   "metadata": {},
   "outputs": [],
   "source": [
    "train.groupby('Tavg_x')['NumMosquitos'].mean().plot(kind='bar')\n",
    "plt.ylabel('Average Number of Mosquitos')\n",
    "plt.xlabel('Average Temperature (Farenheit)')\n",
    "plt.title('Average Number of Mosquitos Depending on Average Temperature');"
   ]
  }
 ],
 "metadata": {
  "kernelspec": {
   "display_name": "Python [conda env:dsi]",
   "language": "python",
   "name": "conda-env-dsi-py"
  }
 },
 "nbformat": 4,
 "nbformat_minor": 2
}
